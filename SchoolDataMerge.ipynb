{
 "cells": [
  {
   "cell_type": "code",
   "execution_count": 2,
   "metadata": {
    "scrolled": true
   },
   "outputs": [],
   "source": [
    "import pandas as pd\n",
    "import os\n",
    "import xlrd\n",
    "\n",
    "kwargs = [\n",
    "{'io': 'school/ClassSizebyGenPopulation.xlsx', 'header': 1, 'index_col': 0},\n",
    "{'io': 'school/enrollmentbygrade.xlsx', 'header': 1, 'index_col': 0},\n",
    "{'io': 'school/enrollmentbyracegender.xlsx', 'header': 4, 'index_col': 0},\n",
    "{'io': 'school/Gradsattendingcollege.xlsx', 'header': 1, 'index_col': 0},\n",
    "{'io': 'school/mcas.xlsx', 'header': 1, 'index_col': 0},\n",
    "{'io': 'school/PerPupilExpenditures.xlsx', 'header': 1, 'index_col': 0},\n",
    "{'io': 'school/sat_performance.xlsx', 'header': 1, 'index_col': 0},\n",
    "{'io': 'school/ssdr.xlsx', 'header': 1, 'index_col': 0},\n",
    "{'io': 'school/TeacherSalaries.xlsx', 'header': 1, 'index_col': 0},\n",
    "{'io': 'school/SelectedPopulations.xlsx', 'header': [4,5], 'index_col': 0},\n",
    "\n",
    "]\n",
    "schooldata = []\n",
    "districtdata = []\n",
    "for kw in kwargs:\n",
    "    df = pd.read_excel(**kw)\n",
    "    if type(kw['header']) == list:\n",
    "        df.columns = df.columns.map('{0[0]}{0[1]}'.format)\n",
    "    # uncomment to check all column headers\n",
    "    # print(df.columns)\n",
    "    \n",
    "    if df.columns[0][0] == 'D':\n",
    "        districtdata.append(df)\n",
    "    else:\n",
    "        schooldata.append(df)\n",
    "        "
   ]
  },
  {
   "cell_type": "code",
   "execution_count": 3,
   "metadata": {},
   "outputs": [],
   "source": [
    "# split the index to add a SAChool and Town column\n",
    "newcols = pd.DataFrame(schooldata[0].index.str.split(' - ',1).tolist(), columns = ['Town','School'], index=schooldata[0].index)\n",
    "schooldata.append(newcols)\n",
    "df = pd.concat(schooldata, axis=1)\n",
    "df = df.loc[:, ~df.columns.duplicated()]\n",
    "# optionally drop this stray column.\n",
    "# df = df.drop('Unnamed: 9', axis=1)\n",
    "\n",
    "# clean up column headers to allow queries\n",
    "df.columns = [c.replace(' ','').replace('%',\"Percent\").replace('-','').replace('#', 'Num') for c in df.columns]\n",
    "\n"
   ]
  },
  {
   "cell_type": "code",
   "execution_count": 8,
   "metadata": {
    "collapsed": true,
    "scrolled": false
   },
   "outputs": [],
   "source": [
    "def town(name):\n",
    "    \"\"\"return sub dir with town name\"\"\"\n",
    "    return df[df['Town']==name]\n"
   ]
  },
  {
   "cell_type": "code",
   "execution_count": 10,
   "metadata": {},
   "outputs": [],
   "source": [
    "\n",
    "quincy = town(\"Quincy\")\n",
    "pd.set_option(\"display.max_columns\", len(df.columns))\n",
    "\n",
    "# crude way to filter diversity\n",
    "# quincy.eval(\"White < 60 & Hispanic < 60 & AfricanAmerican < 60 & Asian < 60\")\n",
    "\n",
    "quincy.to_csv(\"quincy.csv\")\n"
   ]
  }
 ],
 "metadata": {
  "kernelspec": {
   "display_name": "Python 3",
   "language": "python",
   "name": "python3"
  },
  "language_info": {
   "codemirror_mode": {
    "name": "ipython",
    "version": 3
   },
   "file_extension": ".py",
   "mimetype": "text/x-python",
   "name": "python",
   "nbconvert_exporter": "python",
   "pygments_lexer": "ipython3",
   "version": "3.6.2"
  }
 },
 "nbformat": 4,
 "nbformat_minor": 2
}
